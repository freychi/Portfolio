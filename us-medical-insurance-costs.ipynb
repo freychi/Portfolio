{
 "cells": [
  {
   "cell_type": "markdown",
   "metadata": {},
   "source": [
    "# U.S. Medical Insurance Costs"
   ]
  },
  {
   "cell_type": "markdown",
   "metadata": {},
   "source": [
    "Source: insurance.csv\n",
    "\n",
    "'insurance.csv' provides insurance data in table format. There are 1338 datapoints.\n",
    "\n",
    "Each datapoint includes: Age, Sex, BMI, Children, Smoker, Region, Charges\n",
    "\n",
    "What could be interesting to analyze:\n",
    "1. What are the statistics about the dataset? Averages, mins, maxs, etc.\n",
    "2. What has the greatest impact on insurance cost? Smoker? BMI?\n",
    "3. Which age group pays most?\n",
    "4. Are there gender differences in smoker characteristics?\n",
    "5. Regions represent equally?\n",
    "\n",
    "- Read in data as dictionary\n",
    "- calculate statistical metrics and class counts for floating point data to get an idea of the data distribution\n",
    "- calculate average charges for smokers/non-smokers\n",
    "- calculate average charges for normal/high BMI (<25, >=25)\n",
    "- calculate average charges for different age groups (10-20, 21-30, 31-40, ...)\n",
    "- count no. of female/male in smoker classes \n",
    "- count regions"
   ]
  },
  {
   "cell_type": "code",
   "execution_count": 132,
   "metadata": {},
   "outputs": [
    {
     "name": "stdout",
     "output_type": "stream",
     "text": [
      "['age', 'sex', 'bmi', 'children', 'smoker', 'region', 'charges']\n"
     ]
    }
   ],
   "source": [
    "# Reading in the data\n",
    "# better with DictReader?\n",
    "import csv\n",
    "\n",
    "mic_dict = {\"Age\": [],\"Sex\": [], \"BMI\": [], \"Children\": [], \"Smoker\": [], \"Region\": [], \"Charges\": []}\n",
    "with open('insurance.csv', newline='') as datafile:\n",
    "    data_dict = csv.DictReader(datafile)\n",
    "    print(data_dict.fieldnames)\n",
    "    for row in data_dict:\n",
    "        mic_dict[\"Age\"].append(float(row[\"age\"]))\n",
    "        mic_dict[\"Sex\"].append(row[\"sex\"])\n",
    "        mic_dict[\"BMI\"].append(float(row[\"bmi\"]))\n",
    "        mic_dict[\"Children\"].append(int(row[\"children\"]))\n",
    "        mic_dict[\"Smoker\"].append(row[\"smoker\"])\n",
    "        mic_dict[\"Region\"].append(row[\"region\"])\n",
    "        mic_dict[\"Charges\"].append(float(row[\"charges\"]))"
   ]
  },
  {
   "cell_type": "markdown",
   "metadata": {},
   "source": [
    "### Investigation #1: Data characteristics"
   ]
  },
  {
   "cell_type": "markdown",
   "metadata": {},
   "source": [
    "- calculate statistical metrics for float data BMI, Age, Children, Charges\n",
    "- assign data into classes and check distribution"
   ]
  },
  {
   "cell_type": "code",
   "execution_count": 118,
   "metadata": {},
   "outputs": [],
   "source": [
    "# The aim is to write a generic function that can be used for several parameters.\n",
    "# Input: dict, parameter, class definitions (in dict form)\n",
    "# Output: [average, min, max, median], class distribution \n",
    "def calculate_average(mic_dict, parameter, classes):\n",
    "    # statistical metrics\n",
    "    data = mic_dict[parameter]\n",
    "    average = sum(data)/len(data)\n",
    "    median = sorted(data)[round(len(data)/2)]\n",
    "    vmin = min(data)\n",
    "    vmax = max(data)\n",
    "    print(\"Statistical metrics:\")\n",
    "    print(\"Average: {}, Median: {}, Min: {}, Max: {}\".format(average, median, vmin, vmax))\n",
    "    \n",
    "    # class distribution\n",
    "    print(\"Classes:\")\n",
    "    cvalues = list(classes.values())\n",
    "    class_dict = classes\n",
    "    for i in range(len(cvalues)):\n",
    "        if i < len(cvalues)-1:\n",
    "            lower = cvalues[i]\n",
    "            upper = cvalues[i+1]\n",
    "            data_filtered = [d for d in data if d >= lower and d < upper\n",
    "            print(\"Class {}: {} <= x < {} -> {}\".format(list(classes.keys())[i], lower, upper, len(data_filtered)))\n",
    "        else:\n",
    "            lower = cvalues[i]\n",
    "            data_filtered = [d for d in data if d >= lower]\n",
    "            print(\"Class {}: {} <= x -> {}\".format(list(classes.keys())[i], lower, len(data_filtered)))\n",
    "        class_dict[list(classes.keys())[i]] = len(data_filtered)\n",
    "\n",
    "    return average, median, min, max, class_dict"
   ]
  },
  {
   "cell_type": "code",
   "execution_count": 119,
   "metadata": {},
   "outputs": [
    {
     "name": "stdout",
     "output_type": "stream",
     "text": [
      "Statistical metrics:\n",
      "Average: 30.663396860986538, Median: 30.4, Min: 15.96, Max: 53.13\n",
      "Classes:\n",
      "Class 0: 0 <= x < 25 -> 245\n",
      "Class 1: 25 <= x -> 1093\n"
     ]
    }
   ],
   "source": [
    "# BMI\n",
    "classes = {0: 0, 1: 25}\n",
    "bmi_ave, bmi_median, bmi_min, bmi_max, bmi_classes = calculate_average(mic_dict, \"BMI\", classes)"
   ]
  },
  {
   "cell_type": "markdown",
   "metadata": {},
   "source": [
    "According to Wikipedia, a person with a BMI of 25 or higher is considered overweight. \n",
    "In this dataset, there is a bias towards overweight persons. This might affect the analysis of insurance charges. "
   ]
  },
  {
   "cell_type": "code",
   "execution_count": 120,
   "metadata": {},
   "outputs": [
    {
     "name": "stdout",
     "output_type": "stream",
     "text": [
      "Statistical metrics:\n",
      "Average: 39.20702541106129, Median: 39.0, Min: 18.0, Max: 64.0\n",
      "Classes:\n",
      "Class 0: 0 <= x < 10 -> 0\n",
      "Class 1: 10 <= x < 20 -> 137\n",
      "Class 2: 20 <= x < 30 -> 280\n",
      "Class 3: 30 <= x < 40 -> 257\n",
      "Class 4: 40 <= x < 50 -> 279\n",
      "Class 5: 50 <= x < 60 -> 271\n",
      "Class 6: 60 <= x < 70 -> 114\n",
      "Class 7: 70 <= x < 80 -> 0\n",
      "Class 8: 80 <= x < 90 -> 0\n",
      "Class 9: 90 <= x < 100 -> 0\n",
      "Class 10: 100 <= x -> 0\n"
     ]
    }
   ],
   "source": [
    "# Age\n",
    "classes = {0: 0, 1: 10, 2: 20, 3: 30, 4: 40, 5: 50, 6:60, 7:70, 8:80, 9:90, 10: 100}\n",
    "age_ave, age_median, age_min, age_max, age_classes = calculate_average(mic_dict, \"Age\", classes)"
   ]
  },
  {
   "cell_type": "markdown",
   "metadata": {},
   "source": [
    "The age data is normally distributed. There are no persons of age 80 or older."
   ]
  },
  {
   "cell_type": "code",
   "execution_count": 127,
   "metadata": {},
   "outputs": [
    {
     "name": "stdout",
     "output_type": "stream",
     "text": [
      "Statistical metrics:\n",
      "Average: 1.0949177877429, Median: 1, Min: 0, Max: 5\n",
      "Classes:\n",
      "Class 0: 0 <= x < 1 -> 574\n",
      "Class 1: 1 <= x < 2 -> 324\n",
      "Class 2: 2 <= x < 3 -> 240\n",
      "Class 3: 3 <= x < 4 -> 157\n",
      "Class 4: 4 <= x < 5 -> 25\n",
      "Class 5: 5 <= x -> 18\n"
     ]
    }
   ],
   "source": [
    "# Children\n",
    "classes = {0: 0, 1: 1, 2: 2, 3: 3, 4: 4, 5: 5}\n",
    "child_ave, child_median, child_min, child_max, child_classes = calculate_average(mic_dict, \"Children\", classes)"
   ]
  },
  {
   "cell_type": "code",
   "execution_count": 139,
   "metadata": {},
   "outputs": [
    {
     "name": "stdout",
     "output_type": "stream",
     "text": [
      "Statistical metrics:\n",
      "Average: 13270.422265141257, Median: 9386.1613, Min: 1121.8739, Max: 63770.42801\n",
      "Classes:\n",
      "Class 0: 5000 <= x < 10000 -> 353\n",
      "Class 1: 10000 <= x < 20000 -> 353\n",
      "Class 2: 20000 <= x < 30000 -> 111\n",
      "Class 3: 30000 <= x < 40000 -> 83\n",
      "Class 4: 40000 <= x < 50000 -> 72\n",
      "Class 5: 50000 <= x < 60000 -> 4\n",
      "Class 6: 60000 <= x -> 3\n"
     ]
    }
   ],
   "source": [
    "# Charges\n",
    "classes = {0: 5000, 1: 10000, 2: 20000, 3: 30000, 4: 40000, 5: 50000, 6: 60000}\n",
    "charges_ave, charges_median, charges_min, charges_max, charges_classes = calculate_average(mic_dict, \"Charges\", classes)"
   ]
  },
  {
   "cell_type": "markdown",
   "metadata": {},
   "source": [
    "### Investigation #2: What affects the insurance costs more, BMI or Smoker status?"
   ]
  },
  {
   "cell_type": "markdown",
   "metadata": {},
   "source": [
    "- calculate averages charges for smokers/non-smokers, normal/high BMI"
   ]
  },
  {
   "cell_type": "code",
   "execution_count": 164,
   "metadata": {},
   "outputs": [],
   "source": [
    "# The aim is to write a generic function that can be used for both, smoker status and BMIM.\n",
    "# Input: charges, data\n",
    "# Output: average charges for both categories (e.g. smokers/non-smokers)\n",
    "\n",
    "def calculate_average_charges(charges, data):\n",
    "    total_1 = 0\n",
    "    count_1 = 0\n",
    "    total_2 = 0\n",
    "    count_2 = 0\n",
    "    for i in range(len(data)):\n",
    "        if data[i] == \"Class 1\":\n",
    "            total_1 += charges[i]\n",
    "            count_1 += 1\n",
    "        else:\n",
    "            total_2 += charges[i]\n",
    "            count_2 += 1\n",
    "    print (\"Average insurance cost Class 1 = {}\".format(total_1/count_1))\n",
    "    print (\"Average insurance cost Class 2 = {}\".format(total_2/count_2))"
   ]
  },
  {
   "cell_type": "code",
   "execution_count": 165,
   "metadata": {},
   "outputs": [
    {
     "name": "stdout",
     "output_type": "stream",
     "text": [
      "Average insurance cost Class 1 = 32050.23183153285\n",
      "Average insurance cost Class 2 = 8434.268297856199\n"
     ]
    }
   ],
   "source": [
    "# Categorize smoking status data in Class 1 and 2\n",
    "# Class 1 = Smoker, Class 2 = Non-Smoker\n",
    "data = mic_dict[\"Smoker\"]\n",
    "data = [\"Class 1\" if d == \"yes\" else \"Class 2\" for d in data]\n",
    "calculate_average_charges(mic_dict[\"Charges\"], data)"
   ]
  },
  {
   "cell_type": "markdown",
   "metadata": {},
   "source": [
    "Class 1 = Smoker, Class 2 = Non-Smoker.\n",
    "The average insurance cost is 3.8x higher for smokers."
   ]
  },
  {
   "cell_type": "code",
   "execution_count": 166,
   "metadata": {},
   "outputs": [
    {
     "name": "stdout",
     "output_type": "stream",
     "text": [
      "Average insurance cost Class 1 = 10282.224474367351\n",
      "Average insurance cost Class 2 = 13940.237872405301\n"
     ]
    }
   ],
   "source": [
    "# For BMI, we need to create a new list, with 2 categories\n",
    "# Class 1 = normal BMI (<25), Class 2 = overweight (>=25)\n",
    "data = mic_dict[\"BMI\"]\n",
    "data = [\"Class 1\" if d < 25 else \"Class 2\" for d in data]\n",
    "calculate_average_charges(mic_dict[\"Charges\"], data)"
   ]
  },
  {
   "cell_type": "markdown",
   "metadata": {},
   "source": [
    "Class 1 = Normal BMI, Class 2 = Overweight.\n",
    "The average insurance cost is only 1.3x higher for people with BMI > 25."
   ]
  },
  {
   "cell_type": "markdown",
   "metadata": {},
   "source": [
    "--> Smoking has a higher effect on insurance costs than BMI."
   ]
  },
  {
   "cell_type": "markdown",
   "metadata": {},
   "source": [
    "### Investigation #3: Which age group has the highest insurance costs?"
   ]
  },
  {
   "cell_type": "markdown",
   "metadata": {},
   "source": [
    "- define age classes\n",
    "- calculate average for each age class"
   ]
  },
  {
   "cell_type": "code",
   "execution_count": 173,
   "metadata": {},
   "outputs": [],
   "source": [
    "# age classes\n",
    "classes = [1, 2, 3, 4, 5, 6, 7, 8]\n",
    "# categorize age data according to classes\n",
    "data = mic_dict[\"Age\"]\n",
    "data_updated = []\n",
    "for d in data:\n",
    "    if d >= 0 and d < 10:\n",
    "        data_updated.append(\"Class 1\")\n",
    "    if d >= 10 and d < 20:\n",
    "        data_updated.append(\"Class 2\")\n",
    "    if d >= 20 and d < 30:\n",
    "        data_updated.append(\"Class 3\")\n",
    "    if d >= 30 and d < 40:\n",
    "        data_updated.append(\"Class 4\")\n",
    "    if d >= 40 and d < 50:\n",
    "        data_updated.append(\"Class 5\")\n",
    "    if d >= 50 and d < 60:\n",
    "        data_updated.append(\"Class 6\")\n",
    "    if d >= 60 and d < 70:\n",
    "        data_updated.append(\"Class 7\")\n",
    "    if d >= 70 and d < 80:\n",
    "        data_updated.append(\"Class 8\")\n"
   ]
  },
  {
   "cell_type": "code",
   "execution_count": 217,
   "metadata": {},
   "outputs": [],
   "source": [
    "def calculate_average_charges_perclass(charges, data, classes):\n",
    "    old_average = 0\n",
    "    for c in classes:\n",
    "        total = 0\n",
    "        count = 0\n",
    "        for i in range(len(data)):\n",
    "            if data[i] == \"Class {}\".format(c):\n",
    "                total += charges[i]\n",
    "                count += 1\n",
    "            else:\n",
    "                continue\n",
    "        if count == 0:\n",
    "            continue\n",
    "        average = total/count\n",
    "        if old_average == 0:\n",
    "            print (\"Average insurance cost Class {} = {}\".format(c, average))\n",
    "            old_average = average\n",
    "        else:\n",
    "            print (\"Average insurance cost Class {} = {} -> {}x\".format(c, average, average/old_average))\n",
    "            old_average = average"
   ]
  },
  {
   "cell_type": "code",
   "execution_count": null,
   "metadata": {},
   "outputs": [],
   "source": []
  },
  {
   "cell_type": "code",
   "execution_count": 218,
   "metadata": {},
   "outputs": [
    {
     "name": "stdout",
     "output_type": "stream",
     "text": [
      "Average insurance cost Class 2 = 8407.34924189051\n",
      "Average insurance cost Class 3 = 9561.75101803571 -> 1.1373086501977663x\n",
      "Average insurance cost Class 4 = 11738.784117354091 -> 1.2276814252130164x\n",
      "Average insurance cost Class 5 = 14399.203563870966 -> 1.2266350092071145x\n",
      "Average insurance cost Class 6 = 16495.232664981537 -> 1.1455656274191246x\n",
      "Average insurance cost Class 7 = 21248.021884912272 -> 1.288131081049899x\n"
     ]
    }
   ],
   "source": [
    "classes = [1, 2, 3, 4, 5, 6, 7, 8]\n",
    "calculate_average_charges_perclass(mic_dict[\"Charges\"], data_updated, classes)"
   ]
  },
  {
   "cell_type": "markdown",
   "metadata": {},
   "source": [
    "Between the different age group, there's always a ~1.2x increase in average insurance cost. Thus the highest age group pays most."
   ]
  },
  {
   "cell_type": "markdown",
   "metadata": {},
   "source": [
    "### Are there gender differences in Smoker characteristics?"
   ]
  },
  {
   "cell_type": "markdown",
   "metadata": {},
   "source": [
    "- count male/female smokers"
   ]
  },
  {
   "cell_type": "code",
   "execution_count": 231,
   "metadata": {},
   "outputs": [],
   "source": [
    "# input: mic_dict\n",
    "# output: count male/female\n",
    "def count_smokers(mic_dict):\n",
    "    smokers = mic_dict[\"Smoker\"]\n",
    "    sex = mic_dict[\"Sex\"]\n",
    "    count_f = 0\n",
    "    count_m = 0\n",
    "    for i in range(len(sex)):\n",
    "        if sex[i] == \"female\":\n",
    "            count_f += 1\n",
    "        else:\n",
    "            count_m += 1\n",
    "    return count_f, count_m, count_m/count_f"
   ]
  },
  {
   "cell_type": "code",
   "execution_count": 232,
   "metadata": {},
   "outputs": [
    {
     "data": {
      "text/plain": [
       "(662, 676, 1.0211480362537764)"
      ]
     },
     "execution_count": 232,
     "metadata": {},
     "output_type": "execute_result"
    }
   ],
   "source": [
    "count_smokers(mic_dict)"
   ]
  },
  {
   "cell_type": "markdown",
   "metadata": {},
   "source": [
    "The number of smokers is equally distributed between female and male persons."
   ]
  },
  {
   "cell_type": "markdown",
   "metadata": {},
   "source": [
    "### Are the regions represented equally?"
   ]
  },
  {
   "cell_type": "code",
   "execution_count": 242,
   "metadata": {},
   "outputs": [],
   "source": [
    "def analyze_regions(mic_dict):\n",
    "    regions = mic_dict[\"Region\"]\n",
    "    regions_u = list(set(regions))\n",
    "    regions_dict = {}\n",
    "    for region in regions_u:\n",
    "        regions_dict[region] = len([r for r in regions if r == region])\n",
    "    return regions_dict"
   ]
  },
  {
   "cell_type": "code",
   "execution_count": 243,
   "metadata": {},
   "outputs": [
    {
     "data": {
      "text/plain": [
       "{'southeast': 364, 'southwest': 325, 'northwest': 325, 'northeast': 324}"
      ]
     },
     "execution_count": 243,
     "metadata": {},
     "output_type": "execute_result"
    }
   ],
   "source": [
    "analyze_regions(mic_dict)"
   ]
  },
  {
   "cell_type": "markdown",
   "metadata": {},
   "source": [
    "Most insurance data came from \"southeast\". However, the regions are overall equally represented."
   ]
  },
  {
   "cell_type": "code",
   "execution_count": null,
   "metadata": {},
   "outputs": [],
   "source": []
  }
 ],
 "metadata": {
  "kernelspec": {
   "display_name": "Python 3",
   "language": "python",
   "name": "python3"
  },
  "language_info": {
   "codemirror_mode": {
    "name": "ipython",
    "version": 3
   },
   "file_extension": ".py",
   "mimetype": "text/x-python",
   "name": "python",
   "nbconvert_exporter": "python",
   "pygments_lexer": "ipython3",
   "version": "3.8.5"
  }
 },
 "nbformat": 4,
 "nbformat_minor": 4
}
